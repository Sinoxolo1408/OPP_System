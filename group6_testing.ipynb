{
 "cells": [
  {
   "cell_type": "markdown",
   "metadata": {},
   "source": [
    "# Project 8: Online Shopping Purchase Intent Detection\n",
    "#### By Group 6"
   ]
  },
  {
   "cell_type": "markdown",
   "metadata": {},
   "source": [
    "  "
   ]
  },
  {
   "cell_type": "markdown",
   "metadata": {},
   "source": [
    "### Importing of modules:"
   ]
  },
  {
   "cell_type": "code",
   "execution_count": 1,
   "metadata": {},
   "outputs": [],
   "source": [
    "import numpy as np\n",
    "from IPython.display import display,HTML\n",
    "from numpy import *\n",
    "\n",
    "np.set_printoptions(suppress=True)\n",
    "\n",
    "from IPython.display import Markdown, display\n",
    "def printmd(string):\n",
    "    display(Markdown(string))"
   ]
  },
  {
   "cell_type": "markdown",
   "metadata": {},
   "source": [
    " "
   ]
  },
  {
   "cell_type": "markdown",
   "metadata": {},
   "source": [
    "\n",
    "\n",
    "### Background\n",
    "\n",
    "This project involves predicting something that is somewhat of a “holy grail” of business intelligence: trying to predict whether or not a customer will eventually make a purchase using while using an online shopping portal, based on the pattern of pages they have visited on the website, certain analytical features, the time of week and year, and other features. \n",
    "\n",
    "The data file we’ve been given is a selection of a much larger data set: it consists of 3816 data examples and 17 features; the output variable is the last (18th) column of the file labelled “Revenue” and represents whether or not a customer eventually made a purchase (0 – purchase made  / 1 – purchase not made).\n"
   ]
  },
  {
   "cell_type": "markdown",
   "metadata": {},
   "source": [
    " ### Importing data"
   ]
  },
  {
   "cell_type": "markdown",
   "metadata": {},
   "source": [
    "We will begin with Importing our Training data and Cross-Vaidation data set which will be used to train our Neural Network, as well as the appropriate Testing data. I have also printed a sample from our Training data to visualized what the data looks like."
   ]
  },
  {
   "cell_type": "code",
   "execution_count": 2,
   "metadata": {
    "scrolled": true
   },
   "outputs": [
    {
     "data": {
      "text/html": [
       "<div>\n",
       "<style scoped>\n",
       "    .dataframe tbody tr th:only-of-type {\n",
       "        vertical-align: middle;\n",
       "    }\n",
       "\n",
       "    .dataframe tbody tr th {\n",
       "        vertical-align: top;\n",
       "    }\n",
       "\n",
       "    .dataframe thead th {\n",
       "        text-align: right;\n",
       "    }\n",
       "</style>\n",
       "<table border=\"1\" class=\"dataframe\">\n",
       "  <thead>\n",
       "    <tr style=\"text-align: right;\">\n",
       "      <th></th>\n",
       "      <th></th>\n",
       "      <th># Administrative</th>\n",
       "      <th>Administrative_Duration</th>\n",
       "      <th>Informational</th>\n",
       "      <th>Informational_Duration</th>\n",
       "      <th>ProductRelated</th>\n",
       "      <th>ProductRelated_Duration</th>\n",
       "      <th>BounceRates</th>\n",
       "      <th>ExitRates</th>\n",
       "      <th>PageValues</th>\n",
       "      <th>SpecialDay</th>\n",
       "      <th>Month</th>\n",
       "      <th>OperatingSystems</th>\n",
       "      <th>Browser Region</th>\n",
       "      <th>TrafficType</th>\n",
       "      <th>VisitorType</th>\n",
       "      <th>Weekend</th>\n",
       "      <th>Revenue</th>\n",
       "    </tr>\n",
       "  </thead>\n",
       "  <tbody>\n",
       "    <tr>\n",
       "      <th>0</th>\n",
       "      <td>5.0</td>\n",
       "      <td>1415.0</td>\n",
       "      <td>0.0</td>\n",
       "      <td>0.0</td>\n",
       "      <td>34.0</td>\n",
       "      <td>588.0</td>\n",
       "      <td>0.0</td>\n",
       "      <td>0.0</td>\n",
       "      <td>8.0</td>\n",
       "      <td>0.0</td>\n",
       "      <td>8.0</td>\n",
       "      <td>2.0</td>\n",
       "      <td>5.0</td>\n",
       "      <td>1.0</td>\n",
       "      <td>1.0</td>\n",
       "      <td>2.0</td>\n",
       "      <td>0.0</td>\n",
       "      <td>1.0</td>\n",
       "    </tr>\n",
       "    <tr>\n",
       "      <th>1</th>\n",
       "      <td>2.0</td>\n",
       "      <td>28.0</td>\n",
       "      <td>0.0</td>\n",
       "      <td>0.0</td>\n",
       "      <td>73.0</td>\n",
       "      <td>2260.0</td>\n",
       "      <td>0.0</td>\n",
       "      <td>0.0</td>\n",
       "      <td>0.0</td>\n",
       "      <td>0.0</td>\n",
       "      <td>6.0</td>\n",
       "      <td>2.0</td>\n",
       "      <td>2.0</td>\n",
       "      <td>7.0</td>\n",
       "      <td>4.0</td>\n",
       "      <td>2.0</td>\n",
       "      <td>1.0</td>\n",
       "      <td>0.0</td>\n",
       "    </tr>\n",
       "    <tr>\n",
       "      <th>2</th>\n",
       "      <td>6.0</td>\n",
       "      <td>149.0</td>\n",
       "      <td>3.0</td>\n",
       "      <td>267.0</td>\n",
       "      <td>120.0</td>\n",
       "      <td>3934.0</td>\n",
       "      <td>0.0</td>\n",
       "      <td>0.0</td>\n",
       "      <td>8.0</td>\n",
       "      <td>0.0</td>\n",
       "      <td>11.0</td>\n",
       "      <td>2.0</td>\n",
       "      <td>2.0</td>\n",
       "      <td>4.0</td>\n",
       "      <td>2.0</td>\n",
       "      <td>2.0</td>\n",
       "      <td>1.0</td>\n",
       "      <td>0.0</td>\n",
       "    </tr>\n",
       "    <tr>\n",
       "      <th>3</th>\n",
       "      <td>8.0</td>\n",
       "      <td>97.0</td>\n",
       "      <td>0.0</td>\n",
       "      <td>0.0</td>\n",
       "      <td>24.0</td>\n",
       "      <td>498.0</td>\n",
       "      <td>0.0</td>\n",
       "      <td>0.0</td>\n",
       "      <td>5.0</td>\n",
       "      <td>0.0</td>\n",
       "      <td>10.0</td>\n",
       "      <td>2.0</td>\n",
       "      <td>2.0</td>\n",
       "      <td>1.0</td>\n",
       "      <td>2.0</td>\n",
       "      <td>2.0</td>\n",
       "      <td>0.0</td>\n",
       "      <td>1.0</td>\n",
       "    </tr>\n",
       "    <tr>\n",
       "      <th>4</th>\n",
       "      <td>2.0</td>\n",
       "      <td>21.0</td>\n",
       "      <td>1.0</td>\n",
       "      <td>802.0</td>\n",
       "      <td>48.0</td>\n",
       "      <td>2073.0</td>\n",
       "      <td>0.0</td>\n",
       "      <td>0.0</td>\n",
       "      <td>0.0</td>\n",
       "      <td>0.0</td>\n",
       "      <td>11.0</td>\n",
       "      <td>2.0</td>\n",
       "      <td>2.0</td>\n",
       "      <td>3.0</td>\n",
       "      <td>2.0</td>\n",
       "      <td>2.0</td>\n",
       "      <td>1.0</td>\n",
       "      <td>0.0</td>\n",
       "    </tr>\n",
       "    <tr>\n",
       "      <th>5</th>\n",
       "      <td>4.0</td>\n",
       "      <td>24.0</td>\n",
       "      <td>0.0</td>\n",
       "      <td>0.0</td>\n",
       "      <td>29.0</td>\n",
       "      <td>749.0</td>\n",
       "      <td>0.0</td>\n",
       "      <td>0.0</td>\n",
       "      <td>0.0</td>\n",
       "      <td>0.0</td>\n",
       "      <td>11.0</td>\n",
       "      <td>1.0</td>\n",
       "      <td>1.0</td>\n",
       "      <td>3.0</td>\n",
       "      <td>2.0</td>\n",
       "      <td>2.0</td>\n",
       "      <td>0.0</td>\n",
       "      <td>1.0</td>\n",
       "    </tr>\n",
       "    <tr>\n",
       "      <th>6</th>\n",
       "      <td>0.0</td>\n",
       "      <td>0.0</td>\n",
       "      <td>0.0</td>\n",
       "      <td>0.0</td>\n",
       "      <td>20.0</td>\n",
       "      <td>1117.0</td>\n",
       "      <td>0.0</td>\n",
       "      <td>0.0</td>\n",
       "      <td>0.0</td>\n",
       "      <td>0.0</td>\n",
       "      <td>3.0</td>\n",
       "      <td>2.0</td>\n",
       "      <td>4.0</td>\n",
       "      <td>7.0</td>\n",
       "      <td>2.0</td>\n",
       "      <td>2.0</td>\n",
       "      <td>0.0</td>\n",
       "      <td>0.0</td>\n",
       "    </tr>\n",
       "    <tr>\n",
       "      <th>7</th>\n",
       "      <td>1.0</td>\n",
       "      <td>75.0</td>\n",
       "      <td>0.0</td>\n",
       "      <td>0.0</td>\n",
       "      <td>20.0</td>\n",
       "      <td>1173.0</td>\n",
       "      <td>0.0</td>\n",
       "      <td>0.0</td>\n",
       "      <td>21.0</td>\n",
       "      <td>0.0</td>\n",
       "      <td>11.0</td>\n",
       "      <td>3.0</td>\n",
       "      <td>2.0</td>\n",
       "      <td>8.0</td>\n",
       "      <td>11.0</td>\n",
       "      <td>2.0</td>\n",
       "      <td>0.0</td>\n",
       "      <td>1.0</td>\n",
       "    </tr>\n",
       "    <tr>\n",
       "      <th>8</th>\n",
       "      <td>2.0</td>\n",
       "      <td>6.0</td>\n",
       "      <td>0.0</td>\n",
       "      <td>0.0</td>\n",
       "      <td>9.0</td>\n",
       "      <td>89.0</td>\n",
       "      <td>0.0</td>\n",
       "      <td>0.0</td>\n",
       "      <td>0.0</td>\n",
       "      <td>0.0</td>\n",
       "      <td>9.0</td>\n",
       "      <td>1.0</td>\n",
       "      <td>1.0</td>\n",
       "      <td>4.0</td>\n",
       "      <td>4.0</td>\n",
       "      <td>2.0</td>\n",
       "      <td>1.0</td>\n",
       "      <td>1.0</td>\n",
       "    </tr>\n",
       "    <tr>\n",
       "      <th>9</th>\n",
       "      <td>4.0</td>\n",
       "      <td>206.0</td>\n",
       "      <td>0.0</td>\n",
       "      <td>0.0</td>\n",
       "      <td>9.0</td>\n",
       "      <td>113.0</td>\n",
       "      <td>0.0</td>\n",
       "      <td>0.0</td>\n",
       "      <td>0.0</td>\n",
       "      <td>0.0</td>\n",
       "      <td>10.0</td>\n",
       "      <td>2.0</td>\n",
       "      <td>2.0</td>\n",
       "      <td>1.0</td>\n",
       "      <td>6.0</td>\n",
       "      <td>2.0</td>\n",
       "      <td>0.0</td>\n",
       "      <td>0.0</td>\n",
       "    </tr>\n",
       "  </tbody>\n",
       "</table>\n",
       "</div>"
      ],
      "text/plain": [
       "        # Administrative  Administrative_Duration  Informational  \\\n",
       "0  5.0            1415.0                      0.0            0.0   \n",
       "1  2.0              28.0                      0.0            0.0   \n",
       "2  6.0             149.0                      3.0          267.0   \n",
       "3  8.0              97.0                      0.0            0.0   \n",
       "4  2.0              21.0                      1.0          802.0   \n",
       "5  4.0              24.0                      0.0            0.0   \n",
       "6  0.0               0.0                      0.0            0.0   \n",
       "7  1.0              75.0                      0.0            0.0   \n",
       "8  2.0               6.0                      0.0            0.0   \n",
       "9  4.0             206.0                      0.0            0.0   \n",
       "\n",
       "   Informational_Duration  ProductRelated  ProductRelated_Duration  \\\n",
       "0                    34.0           588.0                      0.0   \n",
       "1                    73.0          2260.0                      0.0   \n",
       "2                   120.0          3934.0                      0.0   \n",
       "3                    24.0           498.0                      0.0   \n",
       "4                    48.0          2073.0                      0.0   \n",
       "5                    29.0           749.0                      0.0   \n",
       "6                    20.0          1117.0                      0.0   \n",
       "7                    20.0          1173.0                      0.0   \n",
       "8                     9.0            89.0                      0.0   \n",
       "9                     9.0           113.0                      0.0   \n",
       "\n",
       "   BounceRates  ExitRates  PageValues  SpecialDay  Month  OperatingSystems  \\\n",
       "0          0.0        8.0         0.0         8.0    2.0               5.0   \n",
       "1          0.0        0.0         0.0         6.0    2.0               2.0   \n",
       "2          0.0        8.0         0.0        11.0    2.0               2.0   \n",
       "3          0.0        5.0         0.0        10.0    2.0               2.0   \n",
       "4          0.0        0.0         0.0        11.0    2.0               2.0   \n",
       "5          0.0        0.0         0.0        11.0    1.0               1.0   \n",
       "6          0.0        0.0         0.0         3.0    2.0               4.0   \n",
       "7          0.0       21.0         0.0        11.0    3.0               2.0   \n",
       "8          0.0        0.0         0.0         9.0    1.0               1.0   \n",
       "9          0.0        0.0         0.0        10.0    2.0               2.0   \n",
       "\n",
       "   Browser Region  TrafficType  VisitorType  Weekend  Revenue  \n",
       "0             1.0          1.0          2.0      0.0      1.0  \n",
       "1             7.0          4.0          2.0      1.0      0.0  \n",
       "2             4.0          2.0          2.0      1.0      0.0  \n",
       "3             1.0          2.0          2.0      0.0      1.0  \n",
       "4             3.0          2.0          2.0      1.0      0.0  \n",
       "5             3.0          2.0          2.0      0.0      1.0  \n",
       "6             7.0          2.0          2.0      0.0      0.0  \n",
       "7             8.0         11.0          2.0      0.0      1.0  \n",
       "8             4.0          4.0          2.0      1.0      1.0  \n",
       "9             1.0          6.0          2.0      0.0      0.0  "
      ]
     },
     "metadata": {},
     "output_type": "display_data"
    }
   ],
   "source": [
    "### Importing some useful packages\n",
    "#This ensures that plots appear in the sheet and not in a new window\n",
    "%matplotlib inline \n",
    "import numpy as np\n",
    "\n",
    "#Pandas is an alternative numerical processing library like numpy: they have differences\n",
    "#We will use Pandas only to provide a preview of the data once we've read it in\n",
    "import pandas as pd\n",
    "\n",
    "data = loadtxt('group6_train.dat')\n",
    "column_labels = ['','# Administrative', 'Administrative_Duration', 'Informational', 'Informational_Duration', 'ProductRelated', 'ProductRelated_Duration', 'BounceRates', 'ExitRates', 'PageValues', 'SpecialDay', 'Month', 'OperatingSystems', 'Browser Region', 'TrafficType', 'VisitorType', 'Weekend','Revenue']\n",
    "CV = loadtxt('group6_CV.dat')\n",
    "Tx = loadtxt('group6_test.dat')\n",
    "display(pd.DataFrame(data,columns = column_labels).head(10))\n"
   ]
  },
  {
   "cell_type": "markdown",
   "metadata": {},
   "source": [
    "## Support Vector Machines Implementation:"
   ]
  },
  {
   "cell_type": "markdown",
   "metadata": {},
   "source": [
    "### Reading in the Data\n",
    "\n",
    "The first step is to load the data. The data for this part is provided in a ```csv``` file called ```group6_test.csv``` which contains 18 columns of data: Columns from 1 until 17 represent the data of which the buyer will buy or not; the last column represents whether the customer eventually made a purchase (```1```) or not (```0```)."
   ]
  },
  {
   "cell_type": "code",
   "execution_count": 3,
   "metadata": {},
   "outputs": [],
   "source": [
    "DataIn = Tx\n",
    "\n",
    "#Set m and n\n",
    "m = DataIn.shape[0]\n",
    "n = DataIn.shape[1]-1 #The final column is not a feature; it's the target variable\n",
    "\n",
    "\n",
    "#Set X and y\n",
    "#I'm putting in reshapes on the single-column matrices to explicitly ensure that they\n",
    "#aren't rank 1 arrays i.e. their shapes aren't weird \"(m,)\" but rather \"(m,1)\" \n",
    "X = DataIn[:,0:n]\n",
    "y = DataIn[:,n].reshape(m,1)"
   ]
  },
  {
   "cell_type": "markdown",
   "metadata": {},
   "source": [
    "### Visualizing the Data (If Possible)\n",
    "\n",
    "Below the data that will be utilised is shown below."
   ]
  },
  {
   "cell_type": "code",
   "execution_count": 4,
   "metadata": {},
   "outputs": [
    {
     "data": {
      "image/png": "[encoded data removed]",
      "text/plain": [
       "<Figure size 432x288 with 1 Axes>"
      ]
     },
     "metadata": {
      "needs_background": "light"
     },
     "output_type": "display_data"
    }
   ],
   "source": [
    "import matplotlib.pyplot as plt\n",
    "\n",
    "X_training= X\n",
    "\n",
    "\n",
    "y_training= y.squeeze()\n",
    "\n",
    "y_training = np.where(y_training, 1, 0)\n",
    "plt.scatter(X_training[y_training ==1, 0],X_training[y_training ==1, 1],c='b',s=50)\n",
    "plt.scatter(X_training[y_training ==0, 0],X_training[y_training== 0, 1],c='r',s=50)\n",
    "plt.legend([\"1\", \"0\"],loc=3)\n",
    "plt.xlabel('X1')\n",
    "plt.ylabel('X2');\n",
    "plt.savefig('nl-chart0.png')"
   ]
  },
  {
   "cell_type": "markdown",
   "metadata": {},
   "source": [
    "### Feature Scaling "
   ]
  },
  {
   "cell_type": "markdown",
   "metadata": {},
   "source": [
    "The dataset contains features highly varying in magnitudes, units and range. But since, most of the machine learning algorithms use Eucledian distance between two data points in their computations, this is a problem.\n",
    "\n",
    "these algorithms only take in the magnitude of features neglecting the units. The results would vary greatly between different units, for e.g 5kg and 5000gms. The features with high magnitudes will weigh in a lot more in the distance calculations than features with low magnitudes.\n",
    "To suppress this effect, we need to bring all features to the same level of magnitudes. This can be achieved by scaling."
   ]
  },
  {
   "cell_type": "markdown",
   "metadata": {},
   "source": [
    "### How is the  StandardScaler achieved "
   ]
  },
  {
   "cell_type": "markdown",
   "metadata": {},
   "source": [
    "The standard score of a sample x is calculated as:\n",
    "\n",
    "    z = (x - u) / s\n",
    "\n",
    "where u is the mean of the training samples or zero if with_mean=False, and s is the standard deviation of the training samples or one if with_std=False.\n"
   ]
  },
  {
   "cell_type": "code",
   "execution_count": 5,
   "metadata": {},
   "outputs": [],
   "source": [
    "from sklearn.preprocessing import StandardScaler\n",
    "\n",
    "def getScaledX(X):\n",
    "    X_scaled = np.zeros(X.shape)\n",
    "    scaler = None\n",
    "    \n",
    "    #FILL IN BELOW:\n",
    "    scaler = StandardScaler().fit(X)\n",
    "    X_scaled = scaler.transform(X)\n",
    "    #STOP FILLING IN HERE\n",
    "    \n",
    "    return X_scaled,scaler\n",
    "\n",
    "\n",
    "X_scaled,scalerpt1 = getScaledX(X)\n"
   ]
  },
  {
   "cell_type": "markdown",
   "metadata": {},
   "source": [
    "#### The trained model"
   ]
  },
  {
   "cell_type": "markdown",
   "metadata": {},
   "source": [
    "The SVM model was trained using different 8 cost functions and also 8 gammas in order to obtain the best combination to be able to find the best CV accuracy. all the gammas and cost functions were given in the project discriptions. "
   ]
  },
  {
   "cell_type": "code",
   "execution_count": 6,
   "metadata": {},
   "outputs": [
    {
     "data": {
      "text/plain": [
       "SVC(C=2048, cache_size=200, class_weight=None, coef0=0.0,\n",
       "  decision_function_shape='ovr', degree=3, gamma=0.00048828125,\n",
       "  kernel='rbf', max_iter=-1, probability=False, random_state=0,\n",
       "  shrinking=True, tol=0.001, verbose=False)"
      ]
     },
     "execution_count": 6,
     "metadata": {},
     "output_type": "execute_result"
    }
   ],
   "source": [
    "from sklearn.svm import SVC\n",
    "from sklearn.metrics import confusion_matrix\n",
    "\n",
    "\n",
    "svm = SVC(kernel='rbf', random_state=0,C=2048, gamma=0.00048828125)\n",
    "svm.fit(X_scaled, y.squeeze())\n"
   ]
  },
  {
   "cell_type": "markdown",
   "metadata": {},
   "source": [
    "#### Testing the model"
   ]
  },
  {
   "cell_type": "markdown",
   "metadata": {},
   "source": [
    "Now we'll get the confusion matrix from the ```sklearn.metrics``` library's ```confusion_matrix``` function and record the results for later analysis:"
   ]
  },
  {
   "cell_type": "code",
   "execution_count": 7,
   "metadata": {
    "scrolled": true
   },
   "outputs": [],
   "source": [
    "from sklearn.metrics import accuracy_score\n",
    "\n",
    "def SVMTest(X):\n",
    "    test = svm.predict(X)\n",
    "    return test\n",
    "\n",
    "predicted = SVMTest((X_scaled))\n",
    "acc1 = accuracy_score(y, predicted)*100\n",
    "cm1 = confusion_matrix(y, predicted)\n",
    "ttl1 = 'SVM RBF Kernel Confusion Matrix - Test Data \\n With accuracy score of:  '"
   ]
  },
  {
   "cell_type": "code",
   "execution_count": 8,
   "metadata": {},
   "outputs": [],
   "source": [
    "import sklearn.metrics as sklm\n",
    "\n",
    "def getMetricsSKL(ytrue,ypred):\n",
    "    acc = 0\n",
    "    rec = 0\n",
    "    prec = 0\n",
    "    f1 = 0\n",
    "    \n",
    "    #FILL IN HERE: Set all of the variables above correctly\n",
    "    acc = sklm.accuracy_score(ytrue, ypred)\n",
    "    rec = sklm.recall_score(ytrue, ypred)\n",
    "    prec = sklm.precision_score(ytrue, ypred)\n",
    "    f1 = sklm.f1_score(ytrue, ypred)\n",
    "    #STOP FILLING IN HERE\n",
    "    \n",
    "    return acc,rec,prec,f1\n",
    "\n",
    "\n",
    "accskl,recskl,precskl,f1skl = getMetricsSKL(y, predicted)\n",
    "SVMresult = [accskl*100,recskl*100,precskl*100,f1skl*100]"
   ]
  },
  {
   "cell_type": "markdown",
   "metadata": {},
   "source": [
    " "
   ]
  },
  {
   "cell_type": "markdown",
   "metadata": {},
   "source": [
    "## <font color = black> Neural Network Implementation: </font>"
   ]
  },
  {
   "cell_type": "markdown",
   "metadata": {},
   "source": [
    "Training data into X and y which represents the features and the results respectively. Similarly, CV data has been divided into cX and cy respectively, and the Testing data into tX and ty which will be used later in this notebook for fitting purposes."
   ]
  },
  {
   "cell_type": "code",
   "execution_count": 9,
   "metadata": {},
   "outputs": [],
   "source": [
    "#Set X and y\n",
    "X = data[:,:17]\n",
    "y = data[:,17]\n",
    "\n",
    "#Set cX and cy\n",
    "cX = CV[:,:17]\n",
    "cy = CV[:,17]\n",
    "\n",
    "#Set tX and ty\n",
    "tX = Tx[:,:17]\n",
    "ty = Tx[:,17]\n"
   ]
  },
  {
   "cell_type": "markdown",
   "metadata": {},
   "source": [
    "#### Feature Scaling\n",
    "\n",
    "We have learnt that Neural Networks may have difficulty converging before the maximum number of iterations allowed if the data is not normalized. Thus I made use of the built-in StandardScaler for standardization which is standardizes featured by removing the mean and scaling to unit variance.\n",
    "\n",
    "The standard score of a sample x is calculated described earlier on in the notebook.\n"
   ]
  },
  {
   "cell_type": "code",
   "execution_count": 10,
   "metadata": {},
   "outputs": [],
   "source": [
    "from sklearn.preprocessing import StandardScaler\n",
    "scaler = StandardScaler()\n",
    "\n",
    "scaler.fit(X)\n",
    "scaler.fit(tX)\n",
    "X = scaler.transform(X)\n",
    "cX = scaler.transform(cX)\n",
    "tX = scaler.transform(tX)\n"
   ]
  },
  {
   "cell_type": "markdown",
   "metadata": {},
   "source": [
    "#### The trained model\n",
    "\n",
    "SciKit Learn has a neural_network library that can be used to train our data. In this case we will import the object estimator called the Multi-Layer Perceptron Classifier model.\n",
    "\n",
    "Note that Perceptron is a linear classifier (binary) and that it is used in supervised learning, as it helps classify a given input data as either 1 or 0."
   ]
  },
  {
   "cell_type": "code",
   "execution_count": 11,
   "metadata": {},
   "outputs": [],
   "source": [
    "from sklearn.neural_network import MLPClassifier"
   ]
  },
  {
   "cell_type": "markdown",
   "metadata": {},
   "source": [
    "Below I have initialized my final Neural Network all with 15 Hidden nodes in its (one and only) Hidden Layer with a learning rate of 0.05."
   ]
  },
  {
   "cell_type": "code",
   "execution_count": 12,
   "metadata": {},
   "outputs": [
    {
     "data": {
      "text/plain": [
       "MLPClassifier(activation='relu', alpha=0.0001, batch_size='auto', beta_1=0.9,\n",
       "       beta_2=0.999, early_stopping=False, epsilon=1e-08,\n",
       "       hidden_layer_sizes=3, learning_rate='constant',\n",
       "       learning_rate_init=0.1, max_iter=500, momentum=0.9,\n",
       "       n_iter_no_change=10, nesterovs_momentum=True, power_t=0.5,\n",
       "       random_state=None, shuffle=True, solver='sgd', tol=0.0001,\n",
       "       validation_fraction=0.1, verbose=False, warm_start=False)"
      ]
     },
     "execution_count": 12,
     "metadata": {},
     "output_type": "execute_result"
    }
   ],
   "source": [
    "mlp = MLPClassifier(hidden_layer_sizes = 3, max_iter = 500,solver='sgd', learning_rate_init = 0.1)\n",
    "mlp.fit(X,y)"
   ]
  },
  {
   "cell_type": "markdown",
   "metadata": {},
   "source": [
    "#### Testing the model\n",
    "We then made use of the testing data to make predictions and the results were stored for later analysis."
   ]
  },
  {
   "cell_type": "code",
   "execution_count": 13,
   "metadata": {},
   "outputs": [],
   "source": [
    "from sklearn.metrics import accuracy_score, classification_report, confusion_matrix, precision_score, recall_score, f1_score\n",
    "\n",
    "def NNTest(X):\n",
    "    test = mlp.predict(X)\n",
    "    return test\n",
    "\n",
    "test = NNTest(tX)\n",
    "cm2 = confusion_matrix(ty,test)\n",
    "    \n",
    "score2 = accuracy_score(ty,test)*100\n",
    "NNresult = [accuracy_score(ty,test)*100,recall_score(ty,test)*100,precision_score(ty,test)*100,f1_score(ty,test)*100]\n",
    "ttl2 = 'Neural Network Confusion Matrix - Test Data \\n With accuracy score of:  '\n",
    "  "
   ]
  },
  {
   "cell_type": "markdown",
   "metadata": {},
   "source": [
    "## <font color = black> Logistic Regression Implementation: </font>"
   ]
  },
  {
   "cell_type": "markdown",
   "metadata": {},
   "source": [
    "#### The trained model\n",
    "This is the best model using the training data and the cross validation data"
   ]
  },
  {
   "cell_type": "code",
   "execution_count": 14,
   "metadata": {},
   "outputs": [
    {
     "data": {
      "text/plain": [
       "LogisticRegression(C=10, class_weight=None, dual=False, fit_intercept=True,\n",
       "          intercept_scaling=1, max_iter=100, multi_class='auto',\n",
       "          n_jobs=None, penalty='l2', random_state=0, solver='lbfgs',\n",
       "          tol=0.0001, verbose=0, warm_start=False)"
      ]
     },
     "execution_count": 14,
     "metadata": {},
     "output_type": "execute_result"
    }
   ],
   "source": [
    "from sklearn.linear_model import LogisticRegression\n",
    "from sklearn.preprocessing import scale\n",
    "\n",
    "m_test = Tx.shape[0]\n",
    "n_test = Tx.shape[1]-1\n",
    "m = data.shape[0]\n",
    "n = data.shape[1]-1\n",
    "\n",
    "X_test = Tx[:,0:n_test]\n",
    "y_test = Tx[:,n_test].reshape(m_test,1)\n",
    "X = data[:,0:n]\n",
    "y = data[:,n].reshape(m,1)\n",
    "\n",
    "\n",
    "X_scaled = scale(X)\n",
    "X_scaled_test = scale(X_test)\n",
    "\n",
    "\n",
    "LogReg = LogisticRegression(random_state=0, solver='lbfgs', multi_class='auto', penalty = 'l2',C = 10)\n",
    "\n",
    "y_arry = []\n",
    "for i in range(m):\n",
    "    \n",
    "    y_arry.append(y[i][0])\n",
    "\n",
    "LogReg.fit(X_scaled,y_arry)"
   ]
  },
  {
   "cell_type": "markdown",
   "metadata": {},
   "source": [
    "#### Testing the model"
   ]
  },
  {
   "cell_type": "code",
   "execution_count": 15,
   "metadata": {},
   "outputs": [],
   "source": [
    "from sklearn.metrics import accuracy_score\n",
    "from sklearn.metrics import classification_report, confusion_matrix\n",
    "\n",
    "def LogTest(X):\n",
    "    test = LogReg.predict(X)\n",
    "    return test\n",
    "\n",
    "y_pred_test = LogTest(X_scaled_test)\n",
    "acc3 = accuracy_score(y_test,LogReg.predict(X_scaled_test))*100\n",
    "cm3 = confusion_matrix(y_test,y_pred_test)\n",
    "ttl3 = 'Logistic Regression Confusion Matrix - Test Data \\n With accuracy score of:  '\n",
    "\n",
    "Logresult = [accuracy_score(y_test,y_pred_test)*100,recall_score(y_test,y_pred_test)*100,precision_score(y_test,y_pred_test)*100,f1_score(y_test,y_pred_test)*100]"
   ]
  },
  {
   "cell_type": "markdown",
   "metadata": {},
   "source": [
    "## OBTAINING THE CONFUSION MATRIX AND VISUALIZING IT "
   ]
  },
  {
   "cell_type": "markdown",
   "metadata": {},
   "source": [
    "Now we will compare the results for the 3 varying Classifiers. \n",
    "\n",
    "Note the Confusion Matrix is printed in the format ```[[TN,FP],[FN,TP]]```\n",
    "\n",
    "If Negative is 1 and Positive is 0 then:\n",
    "\n",
    "    True Negative: Represent a number of datasets that were actually = 0 and the Classifier predicted = 0\n",
    "    False Postive: Represent a number of datasets that were actually = 0 and the Classifier predicted = 1\n",
    "    False Negative: Represent a number of datasets that were actually = 1 and the Classifier predicted = 0\n",
    "    True Positive: Represent a number of datasets that were actually = 1 and the Classifier predicted = 1\n"
   ]
  },
  {
   "cell_type": "code",
   "execution_count": 16,
   "metadata": {},
   "outputs": [],
   "source": [
    "#Graph defined to draw the respective Confusion Matrices\n",
    "def draw_graph(cm,ttl,acc): \n",
    "    plt.clf()\n",
    "    plt.imshow(cm, interpolation='nearest', cmap=plt.cm.Wistia)\n",
    "    classNames = ['Negative','Positive']\n",
    "    plt.title(ttl + str(round(acc)))\n",
    "    plt.ylabel('True label')\n",
    "    plt.xlabel('Predicted label')\n",
    "    tick_marks = np.arange(len(classNames))\n",
    "    plt.xticks(tick_marks, classNames, rotation=45)\n",
    "    plt.yticks(tick_marks, classNames)\n",
    "    s = [['TN','FP'], ['FN', 'TP']]\n",
    "\n",
    "    for i in range(2):\n",
    "        for j in range(2):\n",
    "            plt.text(j,i, str(s[i][j])+\" = \"+str(cm[i][j]))\n",
    "    plt.show()"
   ]
  },
  {
   "cell_type": "code",
   "execution_count": 17,
   "metadata": {},
   "outputs": [
    {
     "data": {
      "image/png": "[encoded data removed]",
      "text/plain": [
       "<Figure size 432x288 with 1 Axes>"
      ]
     },
     "metadata": {
      "needs_background": "light"
     },
     "output_type": "display_data"
    },
    {
     "data": {
      "image/png": "[encoded data removed]",
      "text/plain": [
       "<Figure size 432x288 with 1 Axes>"
      ]
     },
     "metadata": {
      "needs_background": "light"
     },
     "output_type": "display_data"
    },
    {
     "data": {
      "image/png": "[encoded data removed]",
      "text/plain": [
       "<Figure size 432x288 with 1 Axes>"
      ]
     },
     "metadata": {
      "needs_background": "light"
     },
     "output_type": "display_data"
    }
   ],
   "source": [
    "draw_graph(cm1,ttl1,acc1)\n",
    "draw_graph(cm2,ttl2,score2)\n",
    "draw_graph(cm3,ttl3,acc3)"
   ]
  },
  {
   "cell_type": "markdown",
   "metadata": {},
   "source": [
    "## Testing Metrics: Accuracy, Recall, Precision and Score:"
   ]
  },
  {
   "cell_type": "markdown",
   "metadata": {},
   "source": [
    "### Accuracy"
   ]
  },
  {
   "cell_type": "markdown",
   "metadata": {},
   "source": [
    "Accuracy - is defined as the ratio of correctly predicted examples by the total examples. One may think that, if a model has a high accuracy then the model is best. Yes, accuracy is an outstanding measure but only when you have symmetric datasets where values of false positive and false negatives are almost same.It can be calculated using the following formula: \n",
    "$$\n",
    "\\text{Accuracy} = \\frac{\\text{TP+TN}}{\\text{TP+TN+FP+FN}}\\times100\n",
    "$$\n",
    "\n",
    "Similarly, Accuracy can be calculated using the built in function '```accuracy_score(y,x)```' from the ```SKLearn library````"
   ]
  },
  {
   "cell_type": "code",
   "execution_count": 18,
   "metadata": {},
   "outputs": [
    {
     "data": {
      "image/png": "[encoded data removed]",
      "text/plain": [
       "<Figure size 432x288 with 1 Axes>"
      ]
     },
     "metadata": {
      "needs_background": "light"
     },
     "output_type": "display_data"
    },
    {
     "name": "stdout",
     "output_type": "stream",
     "text": [
      "\n",
      "From the graph above we can see that:\n",
      "\n",
      " \t \tSupport Vector Machine has an Accuracy of 88.0%\n",
      "\n",
      " \t \tNeural Network has an Accuracy of 86.0%\n",
      "\n",
      " \t \tLogistic Regression has an Accuracy of 85.0%\n"
     ]
    }
   ],
   "source": [
    "titles = \"Support Vector Machine\",\"Neural Network\", \"Logistic Regression\"\n",
    "temp = [SVMresult[0],NNresult[0],Logresult[0]]\n",
    "\n",
    "plt.title(\"Comparison of Accuracies of the 3 Classifiers: \")\n",
    "plt.bar(titles[0], temp[0], color ='g', width = 0.5)\n",
    "plt.bar(titles[1], temp[1], color ='r', width = 0.5)\n",
    "plt.bar(titles[2], temp[2], color ='b', width = 0.5)\n",
    "plt.show()\n",
    "\n",
    "print(\"\\nFrom the graph above we can see that:\")\n",
    "print(\"\\n \\t \\tSupport Vector Machine has an Accuracy of \" + str(round(temp[0])) +\"%\")\n",
    "print(\"\\n \\t \\tNeural Network has an Accuracy of \" + str(round(temp[1])) +\"%\")\n",
    "print(\"\\n \\t \\tLogistic Regression has an Accuracy of \" + str(round(temp[2])) +\"%\")"
   ]
  },
  {
   "cell_type": "markdown",
   "metadata": {},
   "source": [
    "Having a high accuracy doesnt mean the model is the best hence other parameters have to be taken to consideration. "
   ]
  },
  {
   "cell_type": "markdown",
   "metadata": {},
   "source": [
    "## Precision"
   ]
  },
  {
   "cell_type": "markdown",
   "metadata": {},
   "source": [
    "Precision — Also called Positive predictive value. It is the ratio of correct positive predictions to the total predicted positives. A high Precision indicates   It is calculated using the following formula:\n",
    "$$\n",
    "\\text{Precision} = \\frac{\\text{TP}}{\\text{TP+FP}}\\times100\n",
    "$$\n",
    "\n",
    "Similarly, Precision can be calculated using the built in function '```precision_score(y,x)```' from the ```SKLearn library```."
   ]
  },
  {
   "cell_type": "code",
   "execution_count": 19,
   "metadata": {},
   "outputs": [
    {
     "data": {
      "image/png": "[encoded data removed]",
      "text/plain": [
       "<Figure size 432x288 with 1 Axes>"
      ]
     },
     "metadata": {
      "needs_background": "light"
     },
     "output_type": "display_data"
    },
    {
     "name": "stdout",
     "output_type": "stream",
     "text": [
      "\n",
      "From the graph above we can see that:\n",
      "\n",
      " \t \tSupport Vector Machine has an Precision of 93.0%\n",
      "\n",
      " \t \tNeural Network has an Precision of 87.0%\n",
      "\n",
      " \t \tLogistic Regression has an Precision of 89.0%\n"
     ]
    }
   ],
   "source": [
    "titles = \"Support Vector Machine\",\"Neural Network\", \"Logistic Regression\"\n",
    "temp = [SVMresult[2],NNresult[2],Logresult[2]]\n",
    "\n",
    "plt.title(\"Comparison of Precision of the 3 Classifiers: \")\n",
    "plt.bar(titles[0], temp[0], color ='g', width = 0.5)\n",
    "plt.bar(titles[1], temp[1], color ='r', width = 0.5)\n",
    "plt.bar(titles[2], temp[2], color ='b', width = 0.5)\n",
    "plt.ylabel(\"Percentage (%)\")\n",
    "plt.xlabel(\"Classifier\")\n",
    "plt.show()\n",
    "\n",
    "print(\"\\nFrom the graph above we can see that:\")\n",
    "print(\"\\n \\t \\tSupport Vector Machine has an Precision of \" + str(round(temp[0])) +\"%\")\n",
    "print(\"\\n \\t \\tNeural Network has an Precision of \" + str(round(temp[1])) +\"%\")\n",
    "print(\"\\n \\t \\tLogistic Regression has an Precision of \" + str(round(temp[2])) +\"%\")"
   ]
  },
  {
   "cell_type": "markdown",
   "metadata": {},
   "source": [
    "Precision answers the question of all customers that were ```predicted``` as made a purchase, how many of them ```actually``` made the purchase? Notice that a high precision relates to the low ```False Positive rate```."
   ]
  },
  {
   "cell_type": "markdown",
   "metadata": {},
   "source": [
    "## Recall"
   ]
  },
  {
   "cell_type": "markdown",
   "metadata": {},
   "source": [
    "Recall — Also called Sensitivity, Probability of Detection, True Positive Rate. Recall is the ratio of correct positive predictions to the total positives examples, in this case, testing sample. It is calculated using the following formula:\n",
    "\n",
    "$$\n",
    "\\text{Recall} = \\frac{\\text{TP}}{\\text{TP+FN}}\\times100\n",
    "$$\n",
    "\n",
    "Similarly, Recall can be calculated using the built in function '```recall_score(y,x)```' from the ```SKLearn library```"
   ]
  },
  {
   "cell_type": "code",
   "execution_count": 20,
   "metadata": {},
   "outputs": [
    {
     "data": {
      "image/png": "[encoded data removed]",
      "text/plain": [
       "<Figure size 432x288 with 1 Axes>"
      ]
     },
     "metadata": {
      "needs_background": "light"
     },
     "output_type": "display_data"
    },
    {
     "name": "stdout",
     "output_type": "stream",
     "text": [
      "\n",
      "From the graph above we can see that:\n",
      "\n",
      " \t \tSupport Vector Machine has an Recall of 83.0%\n",
      "\n",
      " \t \tNeural Network has an Recall of 83.0%\n",
      "\n",
      " \t \tLogistic Regression has an Recall of 79.0%\n"
     ]
    }
   ],
   "source": [
    "titles = \"Support Vector Machine\",\"Neural Network\", \"Logistic Regression\"\n",
    "temp = [SVMresult[1],NNresult[1],Logresult[1]]\n",
    "\n",
    "plt.title(\"Comparison of Recall of the 3 Classifiers: \")\n",
    "plt.bar(titles[0], temp[0], color ='g', width = 0.5)\n",
    "plt.bar(titles[1], temp[1], color ='r', width = 0.5)\n",
    "plt.bar(titles[2], temp[2], color ='b', width = 0.5)\n",
    "plt.ylabel(\"Percentage (%)\")\n",
    "plt.xlabel(\"Classifier\")\n",
    "plt.show()\n",
    "\n",
    "print(\"\\nFrom the graph above we can see that:\")\n",
    "print(\"\\n \\t \\tSupport Vector Machine has an Recall of \" + str(round(temp[0])) +\"%\")\n",
    "print(\"\\n \\t \\tNeural Network has an Recall of \" + str(round(temp[1])) +\"%\")\n",
    "print(\"\\n \\t \\tLogistic Regression has an Recall of \" + str(round(temp[2])) +\"%\")"
   ]
  },
  {
   "cell_type": "markdown",
   "metadata": {},
   "source": [
    "Recall addresses the question of all the customers that ```actually``` made a purchase, how many did the classifier ```predict``` correct? A recall above ```0.5``` (50%) is satisfactory.\n",
    "\n",
    "If Recall and Precision are equal in the case of the Neural Network classifier, since they have the same  denominator, we get:\n",
    "\n",
    "$$\n",
    "\\text{FP}={\\text{FN}}\n",
    "$$\n",
    "\n",
    "This means, the classifier has classified an equal amount of users as ```False Positives``` (predicted made a purchase, but actually did not), as it classified ```False Negatives```. This is caused by the fact that the data set had an equal set of customers who made a purchase(expert) and did not make a purchase(non-expert)."
   ]
  },
  {
   "cell_type": "markdown",
   "metadata": {},
   "source": [
    "## F1 Score"
   ]
  },
  {
   "cell_type": "markdown",
   "metadata": {},
   "source": [
    "F1 Score is the weighted average of Precision and Recall. Therefore, this score takes both false positives and false negatives into account. Intuitively it is not as easy to understand as accuracy, but F1 is usually more useful than accuracy, especially if you have an uneven class distribution. Accuracy works best if false positives and false negatives have similar cost. If the cost of false positives and false negatives are very different, it’s better to look at both Precision and Recall. It is calculated using the formula:\n",
    "\n",
    "$$\n",
    "\\text{F1 Score} = \\frac{2\\times\\text{Recall}\\times\\text{Precision}}{\\text{Recall}+ \\text{Precision}}\\times100\n",
    "$$\n",
    "\n",
    "Similarly, F1 Score can be calculated using the built in function '```f1_score(y,x)```' from the ```SKLearn library```"
   ]
  },
  {
   "cell_type": "code",
   "execution_count": 21,
   "metadata": {},
   "outputs": [
    {
     "data": {
      "image/png": "[encoded data removed]",
      "text/plain": [
       "<Figure size 432x288 with 1 Axes>"
      ]
     },
     "metadata": {
      "needs_background": "light"
     },
     "output_type": "display_data"
    },
    {
     "name": "stdout",
     "output_type": "stream",
     "text": [
      "\n",
      "From the graph above we can see that:\n",
      "\n",
      " \t \tSupport Vector Machine has an F1 Score of 87.0%\n",
      "\n",
      " \t \tNeural Network has an F1 Score of 85.0%\n",
      "\n",
      " \t \tLogistic Regression has an F1 Score of 84.0%\n"
     ]
    }
   ],
   "source": [
    "titles = \"Support Vector Machine\",\"Neural Network\", \"Logistic Regression\"\n",
    "temp = [SVMresult[3],NNresult[3],Logresult[3]]\n",
    "\n",
    "\n",
    "plt.title(\"Comparison of F1 Scores of the 3 Classifiers: \")\n",
    "plt.bar(titles[0], temp[0], color ='g', width = 0.5)\n",
    "plt.bar(titles[1], temp[1], color ='r', width = 0.5)\n",
    "plt.bar(titles[2], temp[2], color ='b', width = 0.5)\n",
    "plt.ylabel(\"Percentage (%)\")\n",
    "plt.xlabel(\"Classifier\")\n",
    "plt.show()\n",
    "\n",
    "print(\"\\nFrom the graph above we can see that:\")\n",
    "print(\"\\n \\t \\tSupport Vector Machine has an F1 Score of \" + str(round(temp[0])) +\"%\")\n",
    "print(\"\\n \\t \\tNeural Network has an F1 Score of \" + str(round(temp[1])) +\"%\")\n",
    "print(\"\\n \\t \\tLogistic Regression has an F1 Score of \" + str(round(temp[2])) +\"%\")"
   ]
  },
  {
   "cell_type": "markdown",
   "metadata": {},
   "source": [
    " "
   ]
  },
  {
   "cell_type": "markdown",
   "metadata": {},
   "source": [
    "# Conclusion"
   ]
  },
  {
   "cell_type": "code",
   "execution_count": 26,
   "metadata": {},
   "outputs": [
    {
     "data": {
      "image/png": "[encoded data removed]",
      "text/plain": [
       "<Figure size 720x504 with 1 Axes>"
      ]
     },
     "metadata": {
      "needs_background": "light"
     },
     "output_type": "display_data"
    }
   ],
   "source": [
    "titles = \"Support Vector Machine\",\"Neural Network\", \"Logistic Regression\"\n",
    "\n",
    "N = 3\n",
    "temp1 = [SVMresult[0],SVMresult[1],SVMresult[2]]\n",
    "temp2 = [NNresult[0],NNresult[1],NNresult[2]]\n",
    "temp3 = [Logresult[0],Logresult[1],Logresult[2]]\n",
    "\n",
    "figsize = (10,5)\n",
    "fig, ax = plt.subplots(figsize = (10,7))\n",
    "ind = np.arange(N)\n",
    "width = 0.25\n",
    "p1 = ax.bar(ind, temp1,width, bottom = 0)\n",
    "p2 = ax.bar(ind + width, temp2,width, bottom = 0)\n",
    "p3 = ax.bar((ind +width +width), temp3,width, bottom = 0)\n",
    "ax.set_title(\"Comparison of the 3 Classifiers: \")\n",
    "ax.set_xticks(ind + width)\n",
    "ax.set_xticklabels(('Accuracy','Recall','Precision'))\n",
    "ax.set_ylabel(\"Percentage (%)\")\n",
    "ax.set_xlabel(\"Classifier\")\n",
    "ax.legend((p1[0],p2[0],p3[0]),(titles))\n",
    "ax.autoscale_view()\n",
    "plt.show()\n",
    "\n",
    "\n"
   ]
  },
  {
   "cell_type": "markdown",
   "metadata": {},
   "source": [
    "Thus inorder to choose the suitable classifier, one needs to assess the application at hand. We were instructed to create classifiers that could predict whether online customers/visitors would make a purchase on the said website based on various data statistics. Thus inorder to choose a model that will predict correctly and confidently, the model with the highest ```Precision``` would be suitable. On the other hand, if a  model that can ensure that all customers/visitors who will make purchases are captured or recorded, then the model with the highest ```Recall``` would be suitable.\n"
   ]
  },
  {
   "cell_type": "code",
   "execution_count": null,
   "metadata": {},
   "outputs": [],
   "source": []
  },
  {
   "cell_type": "code",
   "execution_count": null,
   "metadata": {},
   "outputs": [],
   "source": []
  },
  {
   "cell_type": "code",
   "execution_count": null,
   "metadata": {},
   "outputs": [],
   "source": []
  }
 ],
 "metadata": {
  "kernelspec": {
   "display_name": "Python 3",
   "language": "python",
   "name": "python3"
  },
  "language_info": {
   "codemirror_mode": {
    "name": "ipython",
    "version": 3
   },
   "file_extension": ".py",
   "mimetype": "text/x-python",
   "name": "python",
   "nbconvert_exporter": "python",
   "pygments_lexer": "ipython3",
   "version": "3.7.3"
  }
 },
 "nbformat": 4,
 "nbformat_minor": 2
}
